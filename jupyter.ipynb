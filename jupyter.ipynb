{
 "cells": [
  {
   "cell_type": "markdown",
   "metadata": {},
   "source": []
  },
  {
   "cell_type": "code",
   "execution_count": 1,
   "metadata": {},
   "outputs": [
    {
     "name": "stderr",
     "output_type": "stream",
     "text": [
      "c:\\Users\\Aymen\\AppData\\Local\\Programs\\Python\\Python310\\lib\\site-packages\\openpyxl\\worksheet\\_reader.py:329: UserWarning: Data Validation extension is not supported and will be removed\n",
      "  warn(msg)\n"
     ]
    }
   ],
   "source": [
    "import pandas as pd\n",
    "import matplotlib.pyplot as plt\n",
    "\n",
    "# Define the file path (example file path, you can replace with the actual one)\n",
    "file_path = r'C:\\Users\\Aymen\\Documents\\Projects\\personalFinance\\data.xlsm'\n",
    "\n",
    "# Read the Excel file with headers starting at row 5 (index 4) and extracting columns from C to G\n",
    "df = pd.read_excel(file_path, header=4, usecols=\"C:G\")\n",
    "df.columns=[\"Date\",\"Amount\",\"Category\",\"Sub-Category\",\"Description\"]\n"
   ]
  },
  {
   "cell_type": "code",
   "execution_count": 10,
   "metadata": {},
   "outputs": [],
   "source": [
    "categories=df[\"Category\"].unique()"
   ]
  },
  {
   "cell_type": "code",
   "execution_count": 11,
   "metadata": {},
   "outputs": [
    {
     "data": {
      "text/plain": [
       "array(['Income', 'Entertainment', 'Housing', 'Personal Care', 'Food',\n",
       "       'Debt Payments', 'Transportation', nan, 'Bills', 'Savings', 'food'],\n",
       "      dtype=object)"
      ]
     },
     "execution_count": 11,
     "metadata": {},
     "output_type": "execute_result"
    }
   ],
   "source": [
    "month_to_focus=df[df['Date'].month"
   ]
  },
  {
   "cell_type": "code",
   "execution_count": null,
   "metadata": {},
   "outputs": [],
   "source": []
  },
  {
   "cell_type": "code",
   "execution_count": 4,
   "metadata": {},
   "outputs": [
    {
     "name": "stderr",
     "output_type": "stream",
     "text": [
      "2024-10-15 23:50:34.465 Thread 'MainThread': missing ScriptRunContext! This warning can be ignored when running in bare mode.\n",
      "2024-10-15 23:50:34.465 Thread 'MainThread': missing ScriptRunContext! This warning can be ignored when running in bare mode.\n",
      "2024-10-15 23:50:34.466 Thread 'MainThread': missing ScriptRunContext! This warning can be ignored when running in bare mode.\n",
      "2024-10-15 23:50:34.467 Thread 'MainThread': missing ScriptRunContext! This warning can be ignored when running in bare mode.\n",
      "2024-10-15 23:50:34.467 Thread 'MainThread': missing ScriptRunContext! This warning can be ignored when running in bare mode.\n",
      "2024-10-15 23:50:34.468 Thread 'MainThread': missing ScriptRunContext! This warning can be ignored when running in bare mode.\n",
      "2024-10-15 23:50:34.469 Thread 'MainThread': missing ScriptRunContext! This warning can be ignored when running in bare mode.\n",
      "2024-10-15 23:50:34.469 Thread 'MainThread': missing ScriptRunContext! This warning can be ignored when running in bare mode.\n",
      "2024-10-15 23:50:34.470 Thread 'MainThread': missing ScriptRunContext! This warning can be ignored when running in bare mode.\n"
     ]
    }
   ],
   "source": [
    "\n",
    "\n",
    "\n",
    "import streamlit as st\n",
    "import pandas as pd\n",
    "\n",
    "# Set the title of the app\n",
    "st.title(\"Excel File Browser and Viewer\")\n",
    "\n",
    "# File uploader allows user to upload an Excel file\n",
    "uploaded_file = st.file_uploader(\"Choose an Excel file\", type=[\"xlsx\", \"xls\",\"xlsm\"])\n",
    "\n",
    "if uploaded_file is not None:\n",
    "    # Read the Excel file in the background\n",
    "    @st.cache_data\n",
    "    def load_data(file):\n",
    "        data = df = pd.read_excel(file, header=4, usecols=\"C:G\")\n",
    "        return data\n",
    "\n",
    "    data = load_data(uploaded_file)\n",
    "    st.success(\"File uploaded and read successfully!\")\n",
    "\n",
    "    # Display the data\n",
    "    st.subheader(\"Data from the Excel file:\")\n",
    "    st.dataframe(data)\n",
    "\n",
    "    # Leave space for visuals and tables\n",
    "    st.subheader(\"Visuals and Tables\")\n",
    "    st.write(\"Place your visuals and tables here.\")\n",
    "else:\n",
    "    st.info(\"Please upload an Excel file.\")\n",
    "st.run(debug=False)"
   ]
  },
  {
   "cell_type": "code",
   "execution_count": 1,
   "metadata": {},
   "outputs": [
    {
     "name": "stdout",
     "output_type": "stream",
     "text": [
      "Collecting Flask-Session\n",
      "  Downloading flask_session-0.8.0-py3-none-any.whl (24 kB)\n",
      "Requirement already satisfied: flask>=2.2 in c:\\users\\aymen\\appdata\\local\\programs\\python\\python310\\lib\\site-packages (from Flask-Session) (3.0.3)\n",
      "Collecting msgspec>=0.18.6\n",
      "  Downloading msgspec-0.18.6-cp310-cp310-win_amd64.whl (185 kB)\n",
      "     -------------------------------------- 185.7/185.7 kB 3.7 MB/s eta 0:00:00\n",
      "Collecting cachelib\n",
      "  Downloading cachelib-0.13.0-py3-none-any.whl (20 kB)\n",
      "Requirement already satisfied: click>=8.1.3 in c:\\users\\aymen\\appdata\\local\\programs\\python\\python310\\lib\\site-packages (from flask>=2.2->Flask-Session) (8.1.7)\n",
      "Requirement already satisfied: Werkzeug>=3.0.0 in c:\\users\\aymen\\appdata\\local\\programs\\python\\python310\\lib\\site-packages (from flask>=2.2->Flask-Session) (3.0.4)\n",
      "Requirement already satisfied: Jinja2>=3.1.2 in c:\\users\\aymen\\appdata\\local\\programs\\python\\python310\\lib\\site-packages (from flask>=2.2->Flask-Session) (3.1.4)\n",
      "Requirement already satisfied: itsdangerous>=2.1.2 in c:\\users\\aymen\\appdata\\local\\programs\\python\\python310\\lib\\site-packages (from flask>=2.2->Flask-Session) (2.2.0)\n",
      "Requirement already satisfied: blinker>=1.6.2 in c:\\users\\aymen\\appdata\\local\\programs\\python\\python310\\lib\\site-packages (from flask>=2.2->Flask-Session) (1.8.2)\n",
      "Requirement already satisfied: colorama in c:\\users\\aymen\\appdata\\roaming\\python\\python310\\site-packages (from click>=8.1.3->flask>=2.2->Flask-Session) (0.4.6)\n",
      "Requirement already satisfied: MarkupSafe>=2.0 in c:\\users\\aymen\\appdata\\local\\programs\\python\\python310\\lib\\site-packages (from Jinja2>=3.1.2->flask>=2.2->Flask-Session) (3.0.1)\n",
      "Installing collected packages: msgspec, cachelib, Flask-Session\n",
      "Successfully installed Flask-Session-0.8.0 cachelib-0.13.0 msgspec-0.18.6\n",
      "Note: you may need to restart the kernel to use updated packages.\n"
     ]
    },
    {
     "name": "stderr",
     "output_type": "stream",
     "text": [
      "WARNING: Ignoring invalid distribution -illow (c:\\users\\aymen\\appdata\\local\\programs\\python\\python310\\lib\\site-packages)\n",
      "WARNING: Ignoring invalid distribution -illow (c:\\users\\aymen\\appdata\\local\\programs\\python\\python310\\lib\\site-packages)\n",
      "WARNING: Ignoring invalid distribution -illow (c:\\users\\aymen\\appdata\\local\\programs\\python\\python310\\lib\\site-packages)\n",
      "WARNING: Ignoring invalid distribution -illow (c:\\users\\aymen\\appdata\\local\\programs\\python\\python310\\lib\\site-packages)\n",
      "WARNING: Ignoring invalid distribution -illow (c:\\users\\aymen\\appdata\\local\\programs\\python\\python310\\lib\\site-packages)\n",
      "WARNING: Ignoring invalid distribution -illow (c:\\users\\aymen\\appdata\\local\\programs\\python\\python310\\lib\\site-packages)\n",
      "WARNING: Ignoring invalid distribution -illow (c:\\users\\aymen\\appdata\\local\\programs\\python\\python310\\lib\\site-packages)\n",
      "WARNING: Ignoring invalid distribution -illow (c:\\users\\aymen\\appdata\\local\\programs\\python\\python310\\lib\\site-packages)\n",
      "WARNING: Ignoring invalid distribution -illow (c:\\users\\aymen\\appdata\\local\\programs\\python\\python310\\lib\\site-packages)\n",
      "\n",
      "[notice] A new release of pip available: 22.2.2 -> 24.2\n",
      "[notice] To update, run: python.exe -m pip install --upgrade pip\n"
     ]
    }
   ],
   "source": [
    "pip install Flask-Session\n"
   ]
  },
  {
   "cell_type": "code",
   "execution_count": null,
   "metadata": {},
   "outputs": [],
   "source": []
  }
 ],
 "metadata": {
  "kernelspec": {
   "display_name": "Python 3",
   "language": "python",
   "name": "python3"
  },
  "language_info": {
   "codemirror_mode": {
    "name": "ipython",
    "version": 3
   },
   "file_extension": ".py",
   "mimetype": "text/x-python",
   "name": "python",
   "nbconvert_exporter": "python",
   "pygments_lexer": "ipython3",
   "version": "3.10.7"
  }
 },
 "nbformat": 4,
 "nbformat_minor": 2
}
